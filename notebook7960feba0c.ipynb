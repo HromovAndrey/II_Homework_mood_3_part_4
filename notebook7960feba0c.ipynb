{
 "cells": [
  {
   "cell_type": "code",
   "execution_count": 1,
   "id": "85fbdceb",
   "metadata": {
    "_cell_guid": "b1076dfc-b9ad-4769-8c92-a6c4dae69d19",
    "_uuid": "8f2839f25d086af736a60e9eeb907d3b93b6e0e5",
    "execution": {
     "iopub.execute_input": "2024-07-19T18:29:26.987152Z",
     "iopub.status.busy": "2024-07-19T18:29:26.986732Z",
     "iopub.status.idle": "2024-07-19T18:29:28.066180Z",
     "shell.execute_reply": "2024-07-19T18:29:28.065102Z"
    },
    "papermill": {
     "duration": 1.089382,
     "end_time": "2024-07-19T18:29:28.068840",
     "exception": false,
     "start_time": "2024-07-19T18:29:26.979458",
     "status": "completed"
    },
    "tags": []
   },
   "outputs": [
    {
     "name": "stdout",
     "output_type": "stream",
     "text": [
      "/kaggle/input/small-nice-data-dota2/small_nice_data.csv\n"
     ]
    }
   ],
   "source": [
    "# This Python 3 environment comes with many helpful analytics libraries installed\n",
    "# It is defined by the kaggle/python Docker image: https://github.com/kaggle/docker-python\n",
    "# For example, here's several helpful packages to load\n",
    "\n",
    "import numpy as np # linear algebra\n",
    "import pandas as pd # data processing, CSV file I/O (e.g. pd.read_csv)\n",
    "\n",
    "# Input data files are available in the read-only \"../input/\" directory\n",
    "# For example, running this (by clicking run or pressing Shift+Enter) will list all files under the input directory\n",
    "\n",
    "import os\n",
    "for dirname, _, filenames in os.walk('/kaggle/input'):\n",
    "    for filename in filenames:\n",
    "        print(os.path.join(dirname, filename))\n",
    "\n",
    "# You can write up to 20GB to the current directory (/kaggle/working/) that gets preserved as output when you create a version using \"Save & Run All\" \n",
    "# You can also write temporary files to /kaggle/temp/, but they won't be saved outside of the current session"
   ]
  },
  {
   "cell_type": "code",
   "execution_count": 2,
   "id": "d53025a4",
   "metadata": {
    "execution": {
     "iopub.execute_input": "2024-07-19T18:29:28.079311Z",
     "iopub.status.busy": "2024-07-19T18:29:28.078094Z",
     "iopub.status.idle": "2024-07-19T18:29:31.089683Z",
     "shell.execute_reply": "2024-07-19T18:29:31.088315Z"
    },
    "papermill": {
     "duration": 3.01971,
     "end_time": "2024-07-19T18:29:31.092700",
     "exception": false,
     "start_time": "2024-07-19T18:29:28.072990",
     "status": "completed"
    },
    "tags": []
   },
   "outputs": [
    {
     "name": "stdout",
     "output_type": "stream",
     "text": [
      "   time  radiant_roshankill  radiant_Δroshankill  dire_roshankill  \\\n",
      "0     0                   0                    0                0   \n",
      "1    60                   0                    0                0   \n",
      "2   120                   0                    0                0   \n",
      "3   180                   0                    0                0   \n",
      "4   240                   0                    0                0   \n",
      "\n",
      "   dire_Δroshankill  good_tower1  good_tower2  good_tower3  good_melee  \\\n",
      "0                 0            3            3            3           3   \n",
      "1                 0            3            3            3           3   \n",
      "2                 0            3            3            3           3   \n",
      "3                 0            3            3            3           3   \n",
      "4                 0            3            3            3           3   \n",
      "\n",
      "   good_range  ...  radiant_buyback  dire_buyback  radiant_Δrunes  \\\n",
      "0           3  ...                0             0               1   \n",
      "1           3  ...                0             0               1   \n",
      "2           3  ...                0             0               0   \n",
      "3           3  ...                0             0               0   \n",
      "4           3  ...                0             0               0   \n",
      "\n",
      "   dire_Δrunes  radiant_runes  dire_runes  radiant_aegis  dire_aegis  \\\n",
      "0            1              1           1              0           0   \n",
      "1            1              2           2              0           0   \n",
      "2            0              2           2              0           0   \n",
      "3            0              2           2              0           0   \n",
      "4            0              2           2              0           0   \n",
      "\n",
      "   radiantΔaegis  direΔaegis  \n",
      "0              0           0  \n",
      "1              0           0  \n",
      "2              0           0  \n",
      "3              0           0  \n",
      "4              0           0  \n",
      "\n",
      "[5 rows x 83 columns]\n",
      "                time  radiant_roshankill  radiant_Δroshankill  \\\n",
      "count  164300.000000       164300.000000        164300.000000   \n",
      "mean     1072.197079            0.285813             0.022069   \n",
      "std       734.369752            0.607209             0.146910   \n",
      "min         0.000000            0.000000             0.000000   \n",
      "25%       480.000000            0.000000             0.000000   \n",
      "50%      1020.000000            0.000000             0.000000   \n",
      "75%      1560.000000            0.000000             0.000000   \n",
      "max      5820.000000            6.000000             1.000000   \n",
      "\n",
      "       dire_roshankill  dire_Δroshankill    good_tower1    good_tower2  \\\n",
      "count    164300.000000     164300.000000  164300.000000  164300.000000   \n",
      "mean          0.197663          0.016932       1.661540       2.553670   \n",
      "std           0.491219          0.129019       1.229113       0.879006   \n",
      "min           0.000000          0.000000       0.000000       0.000000   \n",
      "25%           0.000000          0.000000       0.000000       3.000000   \n",
      "50%           0.000000          0.000000       2.000000       3.000000   \n",
      "75%           0.000000          0.000000       3.000000       3.000000   \n",
      "max           5.000000          1.000000       3.000000       3.000000   \n",
      "\n",
      "         good_tower3     good_melee     good_range  ...  radiant_buyback  \\\n",
      "count  164300.000000  164300.000000  164300.000000  ...    164300.000000   \n",
      "mean        2.872051       2.906032       2.916226  ...         0.438497   \n",
      "std         0.467094       0.397592       0.376865  ...         1.134580   \n",
      "min         0.000000       0.000000       0.000000  ...         0.000000   \n",
      "25%         3.000000       3.000000       3.000000  ...         0.000000   \n",
      "50%         3.000000       3.000000       3.000000  ...         0.000000   \n",
      "75%         3.000000       3.000000       3.000000  ...         0.000000   \n",
      "max         3.000000       3.000000       3.000000  ...        21.000000   \n",
      "\n",
      "        dire_buyback  radiant_Δrunes    dire_Δrunes  radiant_runes  \\\n",
      "count  164300.000000   164300.000000  164300.000000  164300.000000   \n",
      "mean        0.423177        0.606409       0.596884      11.661236   \n",
      "std         1.116944        0.904239       0.900847       8.688824   \n",
      "min         0.000000        0.000000       0.000000       0.000000   \n",
      "25%         0.000000        0.000000       0.000000       5.000000   \n",
      "50%         0.000000        0.000000       0.000000      10.000000   \n",
      "75%         0.000000        1.000000       1.000000      17.000000   \n",
      "max        19.000000        6.000000       7.000000     134.000000   \n",
      "\n",
      "          dire_runes  radiant_aegis     dire_aegis  radiantΔaegis  \\\n",
      "count  164300.000000  164300.000000  164300.000000  164300.000000   \n",
      "mean       11.479075       0.274583       0.187182       0.021272   \n",
      "std         8.478081       0.589938       0.476634       0.144290   \n",
      "min         0.000000       0.000000       0.000000       0.000000   \n",
      "25%         5.000000       0.000000       0.000000       0.000000   \n",
      "50%        10.000000       0.000000       0.000000       0.000000   \n",
      "75%        17.000000       0.000000       0.000000       0.000000   \n",
      "max       106.000000       5.000000       5.000000       1.000000   \n",
      "\n",
      "          direΔaegis  \n",
      "count  164300.000000  \n",
      "mean        0.016196  \n",
      "std         0.126229  \n",
      "min         0.000000  \n",
      "25%         0.000000  \n",
      "50%         0.000000  \n",
      "75%         0.000000  \n",
      "max         1.000000  \n",
      "\n",
      "[8 rows x 83 columns]\n",
      "time                   0\n",
      "radiant_roshankill     0\n",
      "radiant_Δroshankill    0\n",
      "dire_roshankill        0\n",
      "dire_Δroshankill       0\n",
      "                      ..\n",
      "dire_runes             0\n",
      "radiant_aegis          0\n",
      "dire_aegis             0\n",
      "radiantΔaegis          0\n",
      "direΔaegis             0\n",
      "Length: 83, dtype: int64\n"
     ]
    }
   ],
   "source": [
    "import pandas as pd\n",
    "\n",
    "df = pd.read_csv(\"/kaggle/input/small-nice-data-dota2/small_nice_data.csv\", index_col=0)\n",
    "\n",
    "print(df.head())\n",
    "\n",
    "print(df.describe())\n",
    "\n",
    "print(df.isnull().sum())\n"
   ]
  },
  {
   "cell_type": "code",
   "execution_count": 3,
   "id": "eb8f5359",
   "metadata": {
    "execution": {
     "iopub.execute_input": "2024-07-19T18:29:31.104172Z",
     "iopub.status.busy": "2024-07-19T18:29:31.102745Z",
     "iopub.status.idle": "2024-07-19T18:29:32.817663Z",
     "shell.execute_reply": "2024-07-19T18:29:32.816102Z"
    },
    "papermill": {
     "duration": 1.723529,
     "end_time": "2024-07-19T18:29:32.820535",
     "exception": false,
     "start_time": "2024-07-19T18:29:31.097006",
     "status": "completed"
    },
    "tags": []
   },
   "outputs": [
    {
     "name": "stdout",
     "output_type": "stream",
     "text": [
      "(131440, 82) (32860, 82) (131440,) (32860,)\n"
     ]
    }
   ],
   "source": [
    "from sklearn.model_selection import train_test_split\n",
    "\n",
    "y = df['time']\n",
    "X = df.drop(columns='time')\n",
    "\n",
    "X_train, X_test, y_train, y_test = train_test_split(X, y, test_size=0.2, random_state=42)\n",
    "\n",
    "print(X_train.shape, X_test.shape, y_train.shape, y_test.shape)\n"
   ]
  },
  {
   "cell_type": "code",
   "execution_count": 4,
   "id": "4d9300a1",
   "metadata": {
    "execution": {
     "iopub.execute_input": "2024-07-19T18:29:32.832589Z",
     "iopub.status.busy": "2024-07-19T18:29:32.832169Z",
     "iopub.status.idle": "2024-07-19T18:29:34.978837Z",
     "shell.execute_reply": "2024-07-19T18:29:34.977335Z"
    },
    "papermill": {
     "duration": 2.156397,
     "end_time": "2024-07-19T18:29:34.981392",
     "exception": false,
     "start_time": "2024-07-19T18:29:32.824995",
     "status": "completed"
    },
    "tags": []
   },
   "outputs": [
    {
     "name": "stdout",
     "output_type": "stream",
     "text": [
      "(131440, 82) (32860, 82)\n"
     ]
    }
   ],
   "source": [
    "from sklearn.pipeline import Pipeline\n",
    "from sklearn.impute import SimpleImputer\n",
    "from sklearn.preprocessing import OneHotEncoder\n",
    "from sklearn.compose import ColumnTransformer\n",
    "numeric_features = X.select_dtypes(include=['int64', 'float64']).columns\n",
    "categorical_features = X.select_dtypes(include=['object']).columns\n",
    "numeric_transformer = Pipeline(steps=[\n",
    "    ('imputer', SimpleImputer(strategy='median'))\n",
    "])\n",
    "\n",
    "categorical_transformer = Pipeline(steps=[\n",
    "    ('imputer', SimpleImputer(strategy='most_frequent')),\n",
    "    ('onehot', OneHotEncoder(handle_unknown='ignore'))\n",
    "])\n",
    "\n",
    "\n",
    "preprocessor = ColumnTransformer(\n",
    "    transformers=[\n",
    "        ('num', numeric_transformer, numeric_features),\n",
    "        ('cat', categorical_transformer, categorical_features)\n",
    "    ])\n",
    "\n",
    "X_train_preprocessed = preprocessor.fit_transform(X_train)\n",
    "X_test_preprocessed = preprocessor.transform(X_test)\n",
    "\n",
    "print(X_train_preprocessed.shape, X_test_preprocessed.shape)\n"
   ]
  },
  {
   "cell_type": "code",
   "execution_count": 5,
   "id": "8126d595",
   "metadata": {
    "execution": {
     "iopub.execute_input": "2024-07-19T18:29:34.992112Z",
     "iopub.status.busy": "2024-07-19T18:29:34.991677Z",
     "iopub.status.idle": "2024-07-19T18:29:37.857566Z",
     "shell.execute_reply": "2024-07-19T18:29:37.856238Z"
    },
    "papermill": {
     "duration": 2.874379,
     "end_time": "2024-07-19T18:29:37.860263",
     "exception": false,
     "start_time": "2024-07-19T18:29:34.985884",
     "status": "completed"
    },
    "tags": []
   },
   "outputs": [
    {
     "data": {
      "text/html": [
       "<style>#sk-container-id-1 {color: black;background-color: white;}#sk-container-id-1 pre{padding: 0;}#sk-container-id-1 div.sk-toggleable {background-color: white;}#sk-container-id-1 label.sk-toggleable__label {cursor: pointer;display: block;width: 100%;margin-bottom: 0;padding: 0.3em;box-sizing: border-box;text-align: center;}#sk-container-id-1 label.sk-toggleable__label-arrow:before {content: \"▸\";float: left;margin-right: 0.25em;color: #696969;}#sk-container-id-1 label.sk-toggleable__label-arrow:hover:before {color: black;}#sk-container-id-1 div.sk-estimator:hover label.sk-toggleable__label-arrow:before {color: black;}#sk-container-id-1 div.sk-toggleable__content {max-height: 0;max-width: 0;overflow: hidden;text-align: left;background-color: #f0f8ff;}#sk-container-id-1 div.sk-toggleable__content pre {margin: 0.2em;color: black;border-radius: 0.25em;background-color: #f0f8ff;}#sk-container-id-1 input.sk-toggleable__control:checked~div.sk-toggleable__content {max-height: 200px;max-width: 100%;overflow: auto;}#sk-container-id-1 input.sk-toggleable__control:checked~label.sk-toggleable__label-arrow:before {content: \"▾\";}#sk-container-id-1 div.sk-estimator input.sk-toggleable__control:checked~label.sk-toggleable__label {background-color: #d4ebff;}#sk-container-id-1 div.sk-label input.sk-toggleable__control:checked~label.sk-toggleable__label {background-color: #d4ebff;}#sk-container-id-1 input.sk-hidden--visually {border: 0;clip: rect(1px 1px 1px 1px);clip: rect(1px, 1px, 1px, 1px);height: 1px;margin: -1px;overflow: hidden;padding: 0;position: absolute;width: 1px;}#sk-container-id-1 div.sk-estimator {font-family: monospace;background-color: #f0f8ff;border: 1px dotted black;border-radius: 0.25em;box-sizing: border-box;margin-bottom: 0.5em;}#sk-container-id-1 div.sk-estimator:hover {background-color: #d4ebff;}#sk-container-id-1 div.sk-parallel-item::after {content: \"\";width: 100%;border-bottom: 1px solid gray;flex-grow: 1;}#sk-container-id-1 div.sk-label:hover label.sk-toggleable__label {background-color: #d4ebff;}#sk-container-id-1 div.sk-serial::before {content: \"\";position: absolute;border-left: 1px solid gray;box-sizing: border-box;top: 0;bottom: 0;left: 50%;z-index: 0;}#sk-container-id-1 div.sk-serial {display: flex;flex-direction: column;align-items: center;background-color: white;padding-right: 0.2em;padding-left: 0.2em;position: relative;}#sk-container-id-1 div.sk-item {position: relative;z-index: 1;}#sk-container-id-1 div.sk-parallel {display: flex;align-items: stretch;justify-content: center;background-color: white;position: relative;}#sk-container-id-1 div.sk-item::before, #sk-container-id-1 div.sk-parallel-item::before {content: \"\";position: absolute;border-left: 1px solid gray;box-sizing: border-box;top: 0;bottom: 0;left: 50%;z-index: -1;}#sk-container-id-1 div.sk-parallel-item {display: flex;flex-direction: column;z-index: 1;position: relative;background-color: white;}#sk-container-id-1 div.sk-parallel-item:first-child::after {align-self: flex-end;width: 50%;}#sk-container-id-1 div.sk-parallel-item:last-child::after {align-self: flex-start;width: 50%;}#sk-container-id-1 div.sk-parallel-item:only-child::after {width: 0;}#sk-container-id-1 div.sk-dashed-wrapped {border: 1px dashed gray;margin: 0 0.4em 0.5em 0.4em;box-sizing: border-box;padding-bottom: 0.4em;background-color: white;}#sk-container-id-1 div.sk-label label {font-family: monospace;font-weight: bold;display: inline-block;line-height: 1.2em;}#sk-container-id-1 div.sk-label-container {text-align: center;}#sk-container-id-1 div.sk-container {/* jupyter's `normalize.less` sets `[hidden] { display: none; }` but bootstrap.min.css set `[hidden] { display: none !important; }` so we also need the `!important` here to be able to override the default hidden behavior on the sphinx rendered scikit-learn.org. See: https://github.com/scikit-learn/scikit-learn/issues/21755 */display: inline-block !important;position: relative;}#sk-container-id-1 div.sk-text-repr-fallback {display: none;}</style><div id=\"sk-container-id-1\" class=\"sk-top-container\"><div class=\"sk-text-repr-fallback\"><pre>Pipeline(steps=[(&#x27;preprocessor&#x27;,\n",
       "                 ColumnTransformer(transformers=[(&#x27;num&#x27;,\n",
       "                                                  Pipeline(steps=[(&#x27;imputer&#x27;,\n",
       "                                                                   SimpleImputer(strategy=&#x27;median&#x27;))]),\n",
       "                                                  Index([&#x27;radiant_roshankill&#x27;, &#x27;radiant_Δroshankill&#x27;, &#x27;dire_roshankill&#x27;,\n",
       "       &#x27;dire_Δroshankill&#x27;, &#x27;good_tower1&#x27;, &#x27;good_tower2&#x27;, &#x27;good_tower3&#x27;,\n",
       "       &#x27;good_melee&#x27;, &#x27;good_range&#x27;, &#x27;good_fort&#x27;, &#x27;bad_tower1&#x27;, &#x27;bad_tower2&#x27;,\n",
       "       &#x27;bad_tower3&#x27;, &#x27;bad_melee...\n",
       "       &#x27;radiant_buyback&#x27;, &#x27;dire_buyback&#x27;, &#x27;radiant_Δrunes&#x27;, &#x27;dire_Δrunes&#x27;,\n",
       "       &#x27;radiant_runes&#x27;, &#x27;dire_runes&#x27;, &#x27;radiant_aegis&#x27;, &#x27;dire_aegis&#x27;,\n",
       "       &#x27;radiantΔaegis&#x27;, &#x27;direΔaegis&#x27;],\n",
       "      dtype=&#x27;object&#x27;)),\n",
       "                                                 (&#x27;cat&#x27;,\n",
       "                                                  Pipeline(steps=[(&#x27;imputer&#x27;,\n",
       "                                                                   SimpleImputer(strategy=&#x27;most_frequent&#x27;)),\n",
       "                                                                  (&#x27;onehot&#x27;,\n",
       "                                                                   OneHotEncoder(handle_unknown=&#x27;ignore&#x27;))]),\n",
       "                                                  Index([], dtype=&#x27;object&#x27;))])),\n",
       "                (&#x27;regressor&#x27;, LinearRegression())])</pre><b>In a Jupyter environment, please rerun this cell to show the HTML representation or trust the notebook. <br />On GitHub, the HTML representation is unable to render, please try loading this page with nbviewer.org.</b></div><div class=\"sk-container\" hidden><div class=\"sk-item sk-dashed-wrapped\"><div class=\"sk-label-container\"><div class=\"sk-label sk-toggleable\"><input class=\"sk-toggleable__control sk-hidden--visually\" id=\"sk-estimator-id-1\" type=\"checkbox\" ><label for=\"sk-estimator-id-1\" class=\"sk-toggleable__label sk-toggleable__label-arrow\">Pipeline</label><div class=\"sk-toggleable__content\"><pre>Pipeline(steps=[(&#x27;preprocessor&#x27;,\n",
       "                 ColumnTransformer(transformers=[(&#x27;num&#x27;,\n",
       "                                                  Pipeline(steps=[(&#x27;imputer&#x27;,\n",
       "                                                                   SimpleImputer(strategy=&#x27;median&#x27;))]),\n",
       "                                                  Index([&#x27;radiant_roshankill&#x27;, &#x27;radiant_Δroshankill&#x27;, &#x27;dire_roshankill&#x27;,\n",
       "       &#x27;dire_Δroshankill&#x27;, &#x27;good_tower1&#x27;, &#x27;good_tower2&#x27;, &#x27;good_tower3&#x27;,\n",
       "       &#x27;good_melee&#x27;, &#x27;good_range&#x27;, &#x27;good_fort&#x27;, &#x27;bad_tower1&#x27;, &#x27;bad_tower2&#x27;,\n",
       "       &#x27;bad_tower3&#x27;, &#x27;bad_melee...\n",
       "       &#x27;radiant_buyback&#x27;, &#x27;dire_buyback&#x27;, &#x27;radiant_Δrunes&#x27;, &#x27;dire_Δrunes&#x27;,\n",
       "       &#x27;radiant_runes&#x27;, &#x27;dire_runes&#x27;, &#x27;radiant_aegis&#x27;, &#x27;dire_aegis&#x27;,\n",
       "       &#x27;radiantΔaegis&#x27;, &#x27;direΔaegis&#x27;],\n",
       "      dtype=&#x27;object&#x27;)),\n",
       "                                                 (&#x27;cat&#x27;,\n",
       "                                                  Pipeline(steps=[(&#x27;imputer&#x27;,\n",
       "                                                                   SimpleImputer(strategy=&#x27;most_frequent&#x27;)),\n",
       "                                                                  (&#x27;onehot&#x27;,\n",
       "                                                                   OneHotEncoder(handle_unknown=&#x27;ignore&#x27;))]),\n",
       "                                                  Index([], dtype=&#x27;object&#x27;))])),\n",
       "                (&#x27;regressor&#x27;, LinearRegression())])</pre></div></div></div><div class=\"sk-serial\"><div class=\"sk-item sk-dashed-wrapped\"><div class=\"sk-label-container\"><div class=\"sk-label sk-toggleable\"><input class=\"sk-toggleable__control sk-hidden--visually\" id=\"sk-estimator-id-2\" type=\"checkbox\" ><label for=\"sk-estimator-id-2\" class=\"sk-toggleable__label sk-toggleable__label-arrow\">preprocessor: ColumnTransformer</label><div class=\"sk-toggleable__content\"><pre>ColumnTransformer(transformers=[(&#x27;num&#x27;,\n",
       "                                 Pipeline(steps=[(&#x27;imputer&#x27;,\n",
       "                                                  SimpleImputer(strategy=&#x27;median&#x27;))]),\n",
       "                                 Index([&#x27;radiant_roshankill&#x27;, &#x27;radiant_Δroshankill&#x27;, &#x27;dire_roshankill&#x27;,\n",
       "       &#x27;dire_Δroshankill&#x27;, &#x27;good_tower1&#x27;, &#x27;good_tower2&#x27;, &#x27;good_tower3&#x27;,\n",
       "       &#x27;good_melee&#x27;, &#x27;good_range&#x27;, &#x27;good_fort&#x27;, &#x27;bad_tower1&#x27;, &#x27;bad_tower2&#x27;,\n",
       "       &#x27;bad_tower3&#x27;, &#x27;bad_melee&#x27;, &#x27;bad_range&#x27;, &#x27;bad_fort&#x27;, &#x27;id&#x27;, &#x27;y...\n",
       "       &#x27;radiant_kills&#x27;, &#x27;dire_kills&#x27;, &#x27;radiant_Δbuyback&#x27;, &#x27;dire_Δbuyback&#x27;,\n",
       "       &#x27;radiant_buyback&#x27;, &#x27;dire_buyback&#x27;, &#x27;radiant_Δrunes&#x27;, &#x27;dire_Δrunes&#x27;,\n",
       "       &#x27;radiant_runes&#x27;, &#x27;dire_runes&#x27;, &#x27;radiant_aegis&#x27;, &#x27;dire_aegis&#x27;,\n",
       "       &#x27;radiantΔaegis&#x27;, &#x27;direΔaegis&#x27;],\n",
       "      dtype=&#x27;object&#x27;)),\n",
       "                                (&#x27;cat&#x27;,\n",
       "                                 Pipeline(steps=[(&#x27;imputer&#x27;,\n",
       "                                                  SimpleImputer(strategy=&#x27;most_frequent&#x27;)),\n",
       "                                                 (&#x27;onehot&#x27;,\n",
       "                                                  OneHotEncoder(handle_unknown=&#x27;ignore&#x27;))]),\n",
       "                                 Index([], dtype=&#x27;object&#x27;))])</pre></div></div></div><div class=\"sk-parallel\"><div class=\"sk-parallel-item\"><div class=\"sk-item\"><div class=\"sk-label-container\"><div class=\"sk-label sk-toggleable\"><input class=\"sk-toggleable__control sk-hidden--visually\" id=\"sk-estimator-id-3\" type=\"checkbox\" ><label for=\"sk-estimator-id-3\" class=\"sk-toggleable__label sk-toggleable__label-arrow\">num</label><div class=\"sk-toggleable__content\"><pre>Index([&#x27;radiant_roshankill&#x27;, &#x27;radiant_Δroshankill&#x27;, &#x27;dire_roshankill&#x27;,\n",
       "       &#x27;dire_Δroshankill&#x27;, &#x27;good_tower1&#x27;, &#x27;good_tower2&#x27;, &#x27;good_tower3&#x27;,\n",
       "       &#x27;good_melee&#x27;, &#x27;good_range&#x27;, &#x27;good_fort&#x27;, &#x27;bad_tower1&#x27;, &#x27;bad_tower2&#x27;,\n",
       "       &#x27;bad_tower3&#x27;, &#x27;bad_melee&#x27;, &#x27;bad_range&#x27;, &#x27;bad_fort&#x27;, &#x27;id&#x27;, &#x27;y&#x27;,\n",
       "       &#x27;radiant_xp_t&#x27;, &#x27;dire_xp_t&#x27;, &#x27;radiant_Δxp_t&#x27;, &#x27;dire_Δxp_t&#x27;,\n",
       "       &#x27;radiant_gold_t&#x27;, &#x27;dire_gold_t&#x27;, &#x27;radiant_Δgold_t&#x27;, &#x27;dire_Δgold_t&#x27;,\n",
       "       &#x27;radiant_dn_t&#x27;, &#x27;dire_dn_t&#x27;, &#x27;radiant_Δdn_t&#x27;, &#x27;dire_Δdn_t&#x27;,\n",
       "       &#x27;radiant_lh_t&#x27;, &#x27;dire_lh_t&#x27;, &#x27;radiant_Δlh_t&#x27;, &#x27;dire_Δlh_t&#x27;,\n",
       "       &#x27;radiant_artifact_count&#x27;, &#x27;dire_artifact_count&#x27;, &#x27;radiant_common_count&#x27;,\n",
       "       &#x27;dire_common_count&#x27;, &#x27;radiant_component_count&#x27;, &#x27;dire_component_count&#x27;,\n",
       "       &#x27;radiant_consumable_count&#x27;, &#x27;dire_consumable_count&#x27;,\n",
       "       &#x27;radiant_epic_count&#x27;, &#x27;dire_epic_count&#x27;, &#x27;radiant_rare_count&#x27;,\n",
       "       &#x27;dire_rare_count&#x27;, &#x27;radiant_secret_shop_count&#x27;,\n",
       "       &#x27;dire_secret_shop_count&#x27;, &#x27;radiant_null_count&#x27;, &#x27;dire_null_count&#x27;,\n",
       "       &#x27;radiant_artifact_cost&#x27;, &#x27;dire_artifact_cost&#x27;, &#x27;radiant_common_cost&#x27;,\n",
       "       &#x27;dire_common_cost&#x27;, &#x27;radiant_component_cost&#x27;, &#x27;dire_component_cost&#x27;,\n",
       "       &#x27;radiant_consumable_cost&#x27;, &#x27;dire_consumable_cost&#x27;, &#x27;radiant_epic_cost&#x27;,\n",
       "       &#x27;dire_epic_cost&#x27;, &#x27;radiant_rare_cost&#x27;, &#x27;dire_rare_cost&#x27;,\n",
       "       &#x27;radiant_secret_shop_cost&#x27;, &#x27;dire_secret_shop_cost&#x27;,\n",
       "       &#x27;radiant_null_cost&#x27;, &#x27;dire_null_cost&#x27;, &#x27;radiant_Δkills&#x27;, &#x27;dire_Δkills&#x27;,\n",
       "       &#x27;radiant_kills&#x27;, &#x27;dire_kills&#x27;, &#x27;radiant_Δbuyback&#x27;, &#x27;dire_Δbuyback&#x27;,\n",
       "       &#x27;radiant_buyback&#x27;, &#x27;dire_buyback&#x27;, &#x27;radiant_Δrunes&#x27;, &#x27;dire_Δrunes&#x27;,\n",
       "       &#x27;radiant_runes&#x27;, &#x27;dire_runes&#x27;, &#x27;radiant_aegis&#x27;, &#x27;dire_aegis&#x27;,\n",
       "       &#x27;radiantΔaegis&#x27;, &#x27;direΔaegis&#x27;],\n",
       "      dtype=&#x27;object&#x27;)</pre></div></div></div><div class=\"sk-serial\"><div class=\"sk-item\"><div class=\"sk-serial\"><div class=\"sk-item\"><div class=\"sk-estimator sk-toggleable\"><input class=\"sk-toggleable__control sk-hidden--visually\" id=\"sk-estimator-id-4\" type=\"checkbox\" ><label for=\"sk-estimator-id-4\" class=\"sk-toggleable__label sk-toggleable__label-arrow\">SimpleImputer</label><div class=\"sk-toggleable__content\"><pre>SimpleImputer(strategy=&#x27;median&#x27;)</pre></div></div></div></div></div></div></div></div><div class=\"sk-parallel-item\"><div class=\"sk-item\"><div class=\"sk-label-container\"><div class=\"sk-label sk-toggleable\"><input class=\"sk-toggleable__control sk-hidden--visually\" id=\"sk-estimator-id-5\" type=\"checkbox\" ><label for=\"sk-estimator-id-5\" class=\"sk-toggleable__label sk-toggleable__label-arrow\">cat</label><div class=\"sk-toggleable__content\"><pre>Index([], dtype=&#x27;object&#x27;)</pre></div></div></div><div class=\"sk-serial\"><div class=\"sk-item\"><div class=\"sk-serial\"><div class=\"sk-item\"><div class=\"sk-estimator sk-toggleable\"><input class=\"sk-toggleable__control sk-hidden--visually\" id=\"sk-estimator-id-6\" type=\"checkbox\" ><label for=\"sk-estimator-id-6\" class=\"sk-toggleable__label sk-toggleable__label-arrow\">SimpleImputer</label><div class=\"sk-toggleable__content\"><pre>SimpleImputer(strategy=&#x27;most_frequent&#x27;)</pre></div></div></div><div class=\"sk-item\"><div class=\"sk-estimator sk-toggleable\"><input class=\"sk-toggleable__control sk-hidden--visually\" id=\"sk-estimator-id-7\" type=\"checkbox\" ><label for=\"sk-estimator-id-7\" class=\"sk-toggleable__label sk-toggleable__label-arrow\">OneHotEncoder</label><div class=\"sk-toggleable__content\"><pre>OneHotEncoder(handle_unknown=&#x27;ignore&#x27;)</pre></div></div></div></div></div></div></div></div></div></div><div class=\"sk-item\"><div class=\"sk-estimator sk-toggleable\"><input class=\"sk-toggleable__control sk-hidden--visually\" id=\"sk-estimator-id-8\" type=\"checkbox\" ><label for=\"sk-estimator-id-8\" class=\"sk-toggleable__label sk-toggleable__label-arrow\">LinearRegression</label><div class=\"sk-toggleable__content\"><pre>LinearRegression()</pre></div></div></div></div></div></div></div>"
      ],
      "text/plain": [
       "Pipeline(steps=[('preprocessor',\n",
       "                 ColumnTransformer(transformers=[('num',\n",
       "                                                  Pipeline(steps=[('imputer',\n",
       "                                                                   SimpleImputer(strategy='median'))]),\n",
       "                                                  Index(['radiant_roshankill', 'radiant_Δroshankill', 'dire_roshankill',\n",
       "       'dire_Δroshankill', 'good_tower1', 'good_tower2', 'good_tower3',\n",
       "       'good_melee', 'good_range', 'good_fort', 'bad_tower1', 'bad_tower2',\n",
       "       'bad_tower3', 'bad_melee...\n",
       "       'radiant_buyback', 'dire_buyback', 'radiant_Δrunes', 'dire_Δrunes',\n",
       "       'radiant_runes', 'dire_runes', 'radiant_aegis', 'dire_aegis',\n",
       "       'radiantΔaegis', 'direΔaegis'],\n",
       "      dtype='object')),\n",
       "                                                 ('cat',\n",
       "                                                  Pipeline(steps=[('imputer',\n",
       "                                                                   SimpleImputer(strategy='most_frequent')),\n",
       "                                                                  ('onehot',\n",
       "                                                                   OneHotEncoder(handle_unknown='ignore'))]),\n",
       "                                                  Index([], dtype='object'))])),\n",
       "                ('regressor', LinearRegression())])"
      ]
     },
     "execution_count": 5,
     "metadata": {},
     "output_type": "execute_result"
    }
   ],
   "source": [
    "from sklearn.linear_model import LinearRegression\n",
    "\n",
    "model = Pipeline(steps=[('preprocessor', preprocessor),\n",
    "                        ('regressor', LinearRegression())])\n",
    "\n",
    "model.fit(X_train, y_train)\n"
   ]
  },
  {
   "cell_type": "code",
   "execution_count": 6,
   "id": "1f0b9d16",
   "metadata": {
    "execution": {
     "iopub.execute_input": "2024-07-19T18:29:37.873595Z",
     "iopub.status.busy": "2024-07-19T18:29:37.873097Z",
     "iopub.status.idle": "2024-07-19T18:29:38.602523Z",
     "shell.execute_reply": "2024-07-19T18:29:38.601192Z"
    },
    "papermill": {
     "duration": 0.739796,
     "end_time": "2024-07-19T18:29:38.605789",
     "exception": false,
     "start_time": "2024-07-19T18:29:37.865993",
     "status": "completed"
    },
    "tags": []
   },
   "outputs": [
    {
     "name": "stdout",
     "output_type": "stream",
     "text": [
      "Train metrics: {'MSE': 6330.170294959699, 'R2': 0.9882900763533379}\n",
      "Test metrics: {'MSE': 5914.458373742402, 'R2': 0.988927371906198}\n"
     ]
    },
    {
     "data": {
      "image/png": "[encoded data removed]",
      "text/plain": [
       "<Figure size 640x480 with 1 Axes>"
      ]
     },
     "metadata": {},
     "output_type": "display_data"
    }
   ],
   "source": [
    "from sklearn.metrics import mean_squared_error, r2_score\n",
    "import matplotlib.pyplot as plt\n",
    "y_train_pred = model.predict(X_train)\n",
    "y_test_pred = model.predict(X_test)\n",
    "def get_metrics(y_true, y_pred):\n",
    "    return {\n",
    "        \"MSE\": mean_squared_error(y_true, y_pred),\n",
    "        \"R2\": r2_score(y_true, y_pred)\n",
    "    }\n",
    "\n",
    "train_metrics = get_metrics(y_train, y_train_pred)\n",
    "test_metrics = get_metrics(y_test, y_test_pred)\n",
    "\n",
    "print(\"Train metrics:\", train_metrics)\n",
    "print(\"Test metrics:\", test_metrics)\n",
    "metrics_df = pd.DataFrame({'Train': train_metrics.values(), 'Test': test_metrics.values()}, index=train_metrics.keys())\n",
    "metrics_df.plot(kind='bar')\n",
    "plt.title(\"Metrics on Train and Test Data\")\n",
    "plt.ylabel(\"Metric Value\")\n",
    "plt.show()\n"
   ]
  },
  {
   "cell_type": "code",
   "execution_count": 7,
   "id": "411ed7ce",
   "metadata": {
    "execution": {
     "iopub.execute_input": "2024-07-19T18:29:38.620083Z",
     "iopub.status.busy": "2024-07-19T18:29:38.619148Z",
     "iopub.status.idle": "2024-07-19T18:29:38.641184Z",
     "shell.execute_reply": "2024-07-19T18:29:38.639853Z"
    },
    "papermill": {
     "duration": 0.032007,
     "end_time": "2024-07-19T18:29:38.643719",
     "exception": false,
     "start_time": "2024-07-19T18:29:38.611712",
     "status": "completed"
    },
    "tags": []
   },
   "outputs": [
    {
     "name": "stdout",
     "output_type": "stream",
     "text": [
      "Predictions: [1878.6292889  1479.98758701  837.26034018 1997.83435732 1139.07997911]\n",
      "Actual durations: [1860 1500  780 2040 1140]\n"
     ]
    }
   ],
   "source": [
    "import joblib\n",
    "joblib.dump(model, 'dota2_match_duration_model.pkl')\n",
    "loaded_model = joblib.load('dota2_match_duration_model.pkl')\n",
    "\n",
    "example_data = X_test.iloc[:5, :]\n",
    "example_pred = loaded_model.predict(example_data)\n",
    "\n",
    "print(\"Predictions:\", example_pred)\n",
    "print(\"Actual durations:\", y_test.iloc[:5].values)\n"
   ]
  }
 ],
 "metadata": {
  "kaggle": {
   "accelerator": "none",
   "dataSources": [
    {
     "datasetId": 1202763,
     "sourceId": 2011027,
     "sourceType": "datasetVersion"
    }
   ],
   "dockerImageVersionId": 30746,
   "isGpuEnabled": false,
   "isInternetEnabled": false,
   "language": "python",
   "sourceType": "notebook"
  },
  "kernelspec": {
   "display_name": "Python 3",
   "language": "python",
   "name": "python3"
  },
  "language_info": {
   "codemirror_mode": {
    "name": "ipython",
    "version": 3
   },
   "file_extension": ".py",
   "mimetype": "text/x-python",
   "name": "python",
   "nbconvert_exporter": "python",
   "pygments_lexer": "ipython3",
   "version": "3.10.13"
  },
  "papermill": {
   "default_parameters": {},
   "duration": 15.716258,
   "end_time": "2024-07-19T18:29:39.372869",
   "environment_variables": {},
   "exception": null,
   "input_path": "__notebook__.ipynb",
   "output_path": "__notebook__.ipynb",
   "parameters": {},
   "start_time": "2024-07-19T18:29:23.656611",
   "version": "2.5.0"
  }
 },
 "nbformat": 4,
 "nbformat_minor": 5
}
